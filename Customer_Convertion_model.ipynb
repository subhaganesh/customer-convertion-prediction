{
  "cells": [
    {
      "cell_type": "code",
      "execution_count": 3,
      "metadata": {
        "id": "n25wkHP2m82-"
      },
      "outputs": [],
      "source": [
        "import pandas as pd \n",
        "import numpy as np\n",
        "import matplotlib.pyplot as plt\n",
        "import seaborn as sns\n",
        "%matplotlib inline \n",
        "import warnings\n",
        "warnings.simplefilter(\"ignore\")\n",
        "import joblib\n",
        "import imblearn\n",
        "\n",
        "from sklearn.dummy import DummyClassifier\n",
        "from sklearn.model_selection import train_test_split, KFold, GridSearchCV, RandomizedSearchCV, cross_val_score\n",
        "from sklearn.preprocessing import StandardScaler\n",
        "from sklearn.metrics import *\n",
        "from sklearn.linear_model import LogisticRegression\n",
        "from sklearn.ensemble import RandomForestClassifier\n",
        "import xgboost as xgb\n",
        "from xgboost import XGBClassifier\n",
        "pd.set_option('display.max_columns', 100)"
      ]
    },
    {
      "cell_type": "markdown",
      "metadata": {
        "id": "tbHd1w89YmtA"
      },
      "source": [
        "target = df['y'] features = df.drop('y', axis=1) train_y, test_y, train_x, test_x = train_test_split(target, features, test_size=0.2)\n",
        "\n",
        "accuracy={} modellr = LogisticRegression() modellr.fit(train_x, train_y)\n",
        "\n",
        "train_pred_lr = modellr.predict(train_x) test_pred_lr = modellr.predict(test_x)\n",
        "\n",
        "print(classification_report(train_pred_lr, train_y)) print('\\nAccuracy Score for Logistic Regression Model (training): ', round(accuracy_score(train_pred_lr, train_y), 2))\n",
        "\n",
        "print(classification_report(test_pred_lr, test_y)) print('\\nAccuracy Score for Logistic Regression Model (testing): ', round(accuracy_score(test_pred_lr, test_y),2))\n",
        "\n",
        "plt.figure(figsize=(4,3)) ConfMatrix = confusion_matrix(test_y, modellr.predict(test_x)) sns.heatmap(ConfMatrix, annot=True, cmap=\"Pastel1_r\", fmt=\"d\", xticklabels = ['Yes', 'No'], yticklabels = ['No', 'Yes']) plt.ylabel('True label') plt.xlabel('Predicted label') plt.title(\"Confusion Matrix for Logistic Regression\")\n",
        "\n",
        "param_grid = {'max_depth': np.arange(3, 5), 'max_features': np.arange(3,5)} dt = GridSearchCV(DecisionTreeClassifier(), param_grid, cv = 5) dt.fit( train_x, train_y ) round(dt.best_score_,2) dt.best_params_ dt_tree = DecisionTreeClassifier( max_depth = 3, max_features=4, criterion='gini' ) dt_tree.fit(train_x, train_y) train_pred_dt = dt_tree.predict(train_x) test_pred_dt = dt_tree.predict(test_x) print(metrics.classification_report(train_y, train_pred_dt)) print('\\nAccuracy Score for Decission Tree Model(training): ', round(accuracy_score(train_pred_dt, train_y),2))\n",
        "\n",
        "print(metrics.classification_report(test_y, test_pred_dt)) print('\\nAccuracy Score for Decission Tree Model(testing): ', round(accuracy_score(test_pred_dt, test_y),2)) plt.figure(figsize=(4,3)) ConfMatrix = confusion_matrix(test_y, dt_tree.predict(test_x)) sns.heatmap(ConfMatrix,annot=True, cmap=\"BuGn\", fmt=\"d\", xticklabels = ['Yes', 'No'], yticklabels = ['Yes', 'No']) plt.ylabel('True label') plt.xlabel('Predicted label') plt.title(\"Confusion Matrix for Decission Tree\")\n",
        "\n",
        "from sklearn.ensemble import RandomForestClassifier\n",
        "\n",
        "rf_clf = RandomForestClassifier(oob_score=True,n_estimators=100 , max_depth = 10, max_features=4, n_jobs=-1) rf_clf.fit( train_x, train_y ) train_pred_RF=rf_clf.predict(train_x) test_pred_RF=rf_clf.predict(test_x) print(metrics.classification_report(train_y, train_pred_RF)) print('\\nAccuracy Score for Random Forest Model(training): ', round(accuracy_score(train_pred_RF, train_y),2))\n",
        "\n",
        "print(metrics.classification_report(test_y, test_pred_RF)) print('\\nAccuracy Score for Random Forest Model(testing): ', round(accuracy_score(test_pred_RF, test_y),2)) plt.figure(figsize=(4,3)) ConfMatrix = confusion_matrix(test_y, rf_clf.predict(test_x)) sns.heatmap(ConfMatrix,annot=True, cmap=\"CMRmap\", fmt=\"d\", xticklabels = ['Yes', 'No'], yticklabels = ['Yes', 'No']) plt.ylabel('True label') plt.xlabel('Predicted label') plt.title(\"Confusion Matrix for Decission Tree\")\n",
        "\n",
        "xgb_clf = XGBClassifier() xgb_clf.fit(train_x, train_y)\n",
        "\n",
        "train_pred_xgb=xgb_clf.predict(train_x) test_pred_xgb=xgb_clf.predict(test_x)\n",
        "\n",
        "print(metrics.classification_report(train_y, train_pred_xgb)) print('\\nAccuracy Score for model6(training): ', round(accuracy_score(train_pred_xgb, train_y),2))\n",
        "\n",
        "print(metrics.classification_report(test_y, test_pred_xgb)) print('\\nAccuracy Score for model6(testing): ', round(accuracy_score(test_pred_xgb, test_y),2))\n",
        "\n",
        "plt.figure(figsize=(4,3)) ConfMatrix = confusion_matrix(test_y, xgb_clf.predict(test_x)) sns.heatmap(ConfMatrix,annot=True, cmap=\"Oranges_r\", fmt=\"d\", xticklabels = ['Yes', 'No'], yticklabels = ['Yes', 'No']) plt.ylabel('True label') plt.xlabel('Predicted label') plt.title(\"Confusion Matrix for Decission Tree\")"
      ]
    },
    {
      "cell_type": "code",
      "execution_count": 4,
      "metadata": {
        "colab": {
          "base_uri": "https://localhost:8080/",
          "height": 288
        },
        "id": "vyCVs-yybYkD",
        "outputId": "f6a07fb8-5276-46e1-efa2-8928ff71118d"
      },
      "outputs": [
        {
          "data": {
            "text/html": [
              "<div>\n",
              "<style scoped>\n",
              "    .dataframe tbody tr th:only-of-type {\n",
              "        vertical-align: middle;\n",
              "    }\n",
              "\n",
              "    .dataframe tbody tr th {\n",
              "        vertical-align: top;\n",
              "    }\n",
              "\n",
              "    .dataframe thead th {\n",
              "        text-align: right;\n",
              "    }\n",
              "</style>\n",
              "<table border=\"1\" class=\"dataframe\">\n",
              "  <thead>\n",
              "    <tr style=\"text-align: right;\">\n",
              "      <th></th>\n",
              "      <th>day</th>\n",
              "      <th>num_calls</th>\n",
              "      <th>y</th>\n",
              "      <th>dur_min</th>\n",
              "      <th>job_admin</th>\n",
              "      <th>job_blue-collar</th>\n",
              "      <th>job_entrepreneur</th>\n",
              "      <th>job_housemaid</th>\n",
              "      <th>job_management</th>\n",
              "      <th>job_retired</th>\n",
              "      <th>job_self-employed</th>\n",
              "      <th>job_services</th>\n",
              "      <th>job_student</th>\n",
              "      <th>job_technician</th>\n",
              "      <th>job_unemployed</th>\n",
              "      <th>job_unknown</th>\n",
              "      <th>marital_divorced</th>\n",
              "      <th>marital_married</th>\n",
              "      <th>marital_single</th>\n",
              "      <th>education_qual_primary</th>\n",
              "      <th>education_qual_secondary</th>\n",
              "      <th>education_qual_tertiary</th>\n",
              "      <th>education_qual_unknown</th>\n",
              "      <th>call_type_cellular</th>\n",
              "      <th>call_type_telephone</th>\n",
              "      <th>call_type_unknown</th>\n",
              "      <th>mon_apr</th>\n",
              "      <th>mon_aug</th>\n",
              "      <th>mon_dec</th>\n",
              "      <th>mon_feb</th>\n",
              "      <th>mon_jan</th>\n",
              "      <th>mon_jul</th>\n",
              "      <th>mon_jun</th>\n",
              "      <th>mon_mar</th>\n",
              "      <th>mon_may</th>\n",
              "      <th>mon_nov</th>\n",
              "      <th>mon_oct</th>\n",
              "      <th>mon_sep</th>\n",
              "      <th>prev_outcome_failure</th>\n",
              "      <th>prev_outcome_other</th>\n",
              "      <th>prev_outcome_success</th>\n",
              "      <th>prev_outcome_unknown</th>\n",
              "      <th>age_bin_youth</th>\n",
              "      <th>age_bin_middle_aged</th>\n",
              "      <th>age_bin_Senior_citizen</th>\n",
              "    </tr>\n",
              "  </thead>\n",
              "  <tbody>\n",
              "    <tr>\n",
              "      <th>0</th>\n",
              "      <td>5</td>\n",
              "      <td>1</td>\n",
              "      <td>0</td>\n",
              "      <td>4</td>\n",
              "      <td>0</td>\n",
              "      <td>0</td>\n",
              "      <td>0</td>\n",
              "      <td>0</td>\n",
              "      <td>1</td>\n",
              "      <td>0</td>\n",
              "      <td>0</td>\n",
              "      <td>0</td>\n",
              "      <td>0</td>\n",
              "      <td>0</td>\n",
              "      <td>0</td>\n",
              "      <td>0</td>\n",
              "      <td>0</td>\n",
              "      <td>1</td>\n",
              "      <td>0</td>\n",
              "      <td>0</td>\n",
              "      <td>0</td>\n",
              "      <td>1</td>\n",
              "      <td>0</td>\n",
              "      <td>0</td>\n",
              "      <td>0</td>\n",
              "      <td>1</td>\n",
              "      <td>0</td>\n",
              "      <td>0</td>\n",
              "      <td>0</td>\n",
              "      <td>0</td>\n",
              "      <td>0</td>\n",
              "      <td>0</td>\n",
              "      <td>0</td>\n",
              "      <td>0</td>\n",
              "      <td>1</td>\n",
              "      <td>0</td>\n",
              "      <td>0</td>\n",
              "      <td>0</td>\n",
              "      <td>0</td>\n",
              "      <td>0</td>\n",
              "      <td>0</td>\n",
              "      <td>1</td>\n",
              "      <td>0</td>\n",
              "      <td>1</td>\n",
              "      <td>0</td>\n",
              "    </tr>\n",
              "    <tr>\n",
              "      <th>1</th>\n",
              "      <td>5</td>\n",
              "      <td>1</td>\n",
              "      <td>0</td>\n",
              "      <td>2</td>\n",
              "      <td>0</td>\n",
              "      <td>0</td>\n",
              "      <td>0</td>\n",
              "      <td>0</td>\n",
              "      <td>0</td>\n",
              "      <td>0</td>\n",
              "      <td>0</td>\n",
              "      <td>0</td>\n",
              "      <td>0</td>\n",
              "      <td>1</td>\n",
              "      <td>0</td>\n",
              "      <td>0</td>\n",
              "      <td>0</td>\n",
              "      <td>0</td>\n",
              "      <td>1</td>\n",
              "      <td>0</td>\n",
              "      <td>1</td>\n",
              "      <td>0</td>\n",
              "      <td>0</td>\n",
              "      <td>0</td>\n",
              "      <td>0</td>\n",
              "      <td>1</td>\n",
              "      <td>0</td>\n",
              "      <td>0</td>\n",
              "      <td>0</td>\n",
              "      <td>0</td>\n",
              "      <td>0</td>\n",
              "      <td>0</td>\n",
              "      <td>0</td>\n",
              "      <td>0</td>\n",
              "      <td>1</td>\n",
              "      <td>0</td>\n",
              "      <td>0</td>\n",
              "      <td>0</td>\n",
              "      <td>0</td>\n",
              "      <td>0</td>\n",
              "      <td>0</td>\n",
              "      <td>1</td>\n",
              "      <td>0</td>\n",
              "      <td>1</td>\n",
              "      <td>0</td>\n",
              "    </tr>\n",
              "    <tr>\n",
              "      <th>2</th>\n",
              "      <td>5</td>\n",
              "      <td>1</td>\n",
              "      <td>0</td>\n",
              "      <td>1</td>\n",
              "      <td>0</td>\n",
              "      <td>0</td>\n",
              "      <td>1</td>\n",
              "      <td>0</td>\n",
              "      <td>0</td>\n",
              "      <td>0</td>\n",
              "      <td>0</td>\n",
              "      <td>0</td>\n",
              "      <td>0</td>\n",
              "      <td>0</td>\n",
              "      <td>0</td>\n",
              "      <td>0</td>\n",
              "      <td>0</td>\n",
              "      <td>1</td>\n",
              "      <td>0</td>\n",
              "      <td>0</td>\n",
              "      <td>1</td>\n",
              "      <td>0</td>\n",
              "      <td>0</td>\n",
              "      <td>0</td>\n",
              "      <td>0</td>\n",
              "      <td>1</td>\n",
              "      <td>0</td>\n",
              "      <td>0</td>\n",
              "      <td>0</td>\n",
              "      <td>0</td>\n",
              "      <td>0</td>\n",
              "      <td>0</td>\n",
              "      <td>0</td>\n",
              "      <td>0</td>\n",
              "      <td>1</td>\n",
              "      <td>0</td>\n",
              "      <td>0</td>\n",
              "      <td>0</td>\n",
              "      <td>0</td>\n",
              "      <td>0</td>\n",
              "      <td>0</td>\n",
              "      <td>1</td>\n",
              "      <td>0</td>\n",
              "      <td>1</td>\n",
              "      <td>0</td>\n",
              "    </tr>\n",
              "    <tr>\n",
              "      <th>3</th>\n",
              "      <td>5</td>\n",
              "      <td>1</td>\n",
              "      <td>0</td>\n",
              "      <td>1</td>\n",
              "      <td>0</td>\n",
              "      <td>1</td>\n",
              "      <td>0</td>\n",
              "      <td>0</td>\n",
              "      <td>0</td>\n",
              "      <td>0</td>\n",
              "      <td>0</td>\n",
              "      <td>0</td>\n",
              "      <td>0</td>\n",
              "      <td>0</td>\n",
              "      <td>0</td>\n",
              "      <td>0</td>\n",
              "      <td>0</td>\n",
              "      <td>1</td>\n",
              "      <td>0</td>\n",
              "      <td>0</td>\n",
              "      <td>0</td>\n",
              "      <td>0</td>\n",
              "      <td>1</td>\n",
              "      <td>0</td>\n",
              "      <td>0</td>\n",
              "      <td>1</td>\n",
              "      <td>0</td>\n",
              "      <td>0</td>\n",
              "      <td>0</td>\n",
              "      <td>0</td>\n",
              "      <td>0</td>\n",
              "      <td>0</td>\n",
              "      <td>0</td>\n",
              "      <td>0</td>\n",
              "      <td>1</td>\n",
              "      <td>0</td>\n",
              "      <td>0</td>\n",
              "      <td>0</td>\n",
              "      <td>0</td>\n",
              "      <td>0</td>\n",
              "      <td>0</td>\n",
              "      <td>1</td>\n",
              "      <td>0</td>\n",
              "      <td>1</td>\n",
              "      <td>0</td>\n",
              "    </tr>\n",
              "    <tr>\n",
              "      <th>4</th>\n",
              "      <td>5</td>\n",
              "      <td>1</td>\n",
              "      <td>0</td>\n",
              "      <td>3</td>\n",
              "      <td>0</td>\n",
              "      <td>0</td>\n",
              "      <td>0</td>\n",
              "      <td>0</td>\n",
              "      <td>0</td>\n",
              "      <td>0</td>\n",
              "      <td>0</td>\n",
              "      <td>0</td>\n",
              "      <td>0</td>\n",
              "      <td>0</td>\n",
              "      <td>0</td>\n",
              "      <td>1</td>\n",
              "      <td>0</td>\n",
              "      <td>0</td>\n",
              "      <td>1</td>\n",
              "      <td>0</td>\n",
              "      <td>0</td>\n",
              "      <td>0</td>\n",
              "      <td>1</td>\n",
              "      <td>0</td>\n",
              "      <td>0</td>\n",
              "      <td>1</td>\n",
              "      <td>0</td>\n",
              "      <td>0</td>\n",
              "      <td>0</td>\n",
              "      <td>0</td>\n",
              "      <td>0</td>\n",
              "      <td>0</td>\n",
              "      <td>0</td>\n",
              "      <td>0</td>\n",
              "      <td>1</td>\n",
              "      <td>0</td>\n",
              "      <td>0</td>\n",
              "      <td>0</td>\n",
              "      <td>0</td>\n",
              "      <td>0</td>\n",
              "      <td>0</td>\n",
              "      <td>1</td>\n",
              "      <td>0</td>\n",
              "      <td>1</td>\n",
              "      <td>0</td>\n",
              "    </tr>\n",
              "  </tbody>\n",
              "</table>\n",
              "</div>"
            ],
            "text/plain": [
              "   day  num_calls  y  dur_min  job_admin  job_blue-collar  job_entrepreneur  \\\n",
              "0    5          1  0        4          0                0                 0   \n",
              "1    5          1  0        2          0                0                 0   \n",
              "2    5          1  0        1          0                0                 1   \n",
              "3    5          1  0        1          0                1                 0   \n",
              "4    5          1  0        3          0                0                 0   \n",
              "\n",
              "   job_housemaid  job_management  job_retired  job_self-employed  \\\n",
              "0              0               1            0                  0   \n",
              "1              0               0            0                  0   \n",
              "2              0               0            0                  0   \n",
              "3              0               0            0                  0   \n",
              "4              0               0            0                  0   \n",
              "\n",
              "   job_services  job_student  job_technician  job_unemployed  job_unknown  \\\n",
              "0             0            0               0               0            0   \n",
              "1             0            0               1               0            0   \n",
              "2             0            0               0               0            0   \n",
              "3             0            0               0               0            0   \n",
              "4             0            0               0               0            1   \n",
              "\n",
              "   marital_divorced  marital_married  marital_single  education_qual_primary  \\\n",
              "0                 0                1               0                       0   \n",
              "1                 0                0               1                       0   \n",
              "2                 0                1               0                       0   \n",
              "3                 0                1               0                       0   \n",
              "4                 0                0               1                       0   \n",
              "\n",
              "   education_qual_secondary  education_qual_tertiary  education_qual_unknown  \\\n",
              "0                         0                        1                       0   \n",
              "1                         1                        0                       0   \n",
              "2                         1                        0                       0   \n",
              "3                         0                        0                       1   \n",
              "4                         0                        0                       1   \n",
              "\n",
              "   call_type_cellular  call_type_telephone  call_type_unknown  mon_apr  \\\n",
              "0                   0                    0                  1        0   \n",
              "1                   0                    0                  1        0   \n",
              "2                   0                    0                  1        0   \n",
              "3                   0                    0                  1        0   \n",
              "4                   0                    0                  1        0   \n",
              "\n",
              "   mon_aug  mon_dec  mon_feb  mon_jan  mon_jul  mon_jun  mon_mar  mon_may  \\\n",
              "0        0        0        0        0        0        0        0        1   \n",
              "1        0        0        0        0        0        0        0        1   \n",
              "2        0        0        0        0        0        0        0        1   \n",
              "3        0        0        0        0        0        0        0        1   \n",
              "4        0        0        0        0        0        0        0        1   \n",
              "\n",
              "   mon_nov  mon_oct  mon_sep  prev_outcome_failure  prev_outcome_other  \\\n",
              "0        0        0        0                     0                   0   \n",
              "1        0        0        0                     0                   0   \n",
              "2        0        0        0                     0                   0   \n",
              "3        0        0        0                     0                   0   \n",
              "4        0        0        0                     0                   0   \n",
              "\n",
              "   prev_outcome_success  prev_outcome_unknown  age_bin_youth  \\\n",
              "0                     0                     1              0   \n",
              "1                     0                     1              0   \n",
              "2                     0                     1              0   \n",
              "3                     0                     1              0   \n",
              "4                     0                     1              0   \n",
              "\n",
              "   age_bin_middle_aged  age_bin_Senior_citizen  \n",
              "0                    1                       0  \n",
              "1                    1                       0  \n",
              "2                    1                       0  \n",
              "3                    1                       0  \n",
              "4                    1                       0  "
            ]
          },
          "execution_count": 4,
          "metadata": {},
          "output_type": "execute_result"
        }
      ],
      "source": [
        "data = pd.read_excel('df_encoded.xlsx')\n",
        "data.head()"
      ]
    },
    {
      "cell_type": "code",
      "execution_count": 5,
      "metadata": {
        "id": "iVsvMXb9b8kD"
      },
      "outputs": [],
      "source": [
        "X = data.drop(columns=['y'])\n",
        "y = data['y']\n",
        "\n",
        "# names of features\n",
        "feature_cols = X.columns.tolist()"
      ]
    },
    {
      "cell_type": "code",
      "execution_count": 6,
      "metadata": {
        "id": "bywKN4yydAZv"
      },
      "outputs": [],
      "source": [
        "# separating out numeric features\n",
        "X_num = X[['day','num_calls','dur_min']]\n",
        "num_cols = X_num.columns.tolist()"
      ]
    },
    {
      "cell_type": "code",
      "execution_count": 7,
      "metadata": {
        "colab": {
          "base_uri": "https://localhost:8080/",
          "height": 121
        },
        "id": "wyNsQXrbcc6f",
        "outputId": "403a99d3-e2e0-48d0-c49c-02f1d74f1bbe"
      },
      "outputs": [
        {
          "data": {
            "text/plain": [
              "0    39922\n",
              "1     5289\n",
              "Name: y, dtype: int64"
            ]
          },
          "metadata": {},
          "output_type": "display_data"
        },
        {
          "data": {
            "text/plain": [
              "0    0.883015\n",
              "1    0.116985\n",
              "Name: y, dtype: float64"
            ]
          },
          "metadata": {},
          "output_type": "display_data"
        }
      ],
      "source": [
        "# check class imbalance\n",
        "display(data['y'].value_counts())\n",
        "display(data['y'].value_counts(normalize=True))"
      ]
    },
    {
      "cell_type": "code",
      "execution_count": 8,
      "metadata": {
        "id": "Q-7gJ5lLc2Yl"
      },
      "outputs": [],
      "source": [
        "def data_split(X, y, imbalance=False):\n",
        "    # split data \n",
        "    X_train, X_test, y_train, y_test = train_test_split(X, y, test_size=0.3,\n",
        "                                                        shuffle=True, stratify=y, random_state=42)\n",
        "    \n",
        "    if imbalance:\n",
        "        # use SMOTE to over sample data\n",
        "        from imblearn.over_sampling import SMOTE\n",
        "        sm = SMOTE(random_state=42)\n",
        "        X_train, y_train = sm.fit_resample(X_train, y_train.ravel())\n",
        "    \n",
        "    return X_train, X_test, y_train, y_test"
      ]
    },
    {
      "cell_type": "code",
      "execution_count": 9,
      "metadata": {
        "id": "WGgbfs2KdV_c"
      },
      "outputs": [],
      "source": [
        "def standard_scaler(X_train, X_test, numerical_cols):\n",
        "    # Make copies of dataset\n",
        "    X_train_std = X_train.copy()\n",
        "    X_test_std = X_test.copy()\n",
        "    \n",
        "    # Apply standardization on numerical features only\n",
        "    for i in numerical_cols:\n",
        "        sc = StandardScaler().fit(X_train_std[[i]])\n",
        "        X_train_std[i] = sc.transform(X_train_std[[i]])\n",
        "        X_test_std[i] = sc.transform(X_test_std[[i]])\n",
        "    \n",
        "    return X_train_std, X_test_std"
      ]
    },
    {
      "cell_type": "markdown",
      "metadata": {
        "id": "-1thUxjTdiBN"
      },
      "source": [
        "# 1. Logistic Regression"
      ]
    },
    {
      "cell_type": "code",
      "execution_count": 10,
      "metadata": {
        "id": "CtNQHdXLdhr4"
      },
      "outputs": [],
      "source": [
        "def logistic_regression(imbalance=False):\n",
        "    # Split data  \n",
        "    X_train, X_test, y_train, y_test = data_split(X, y, imbalance=imbalance)\n",
        "\n",
        "    # Rescale data\n",
        "    X_train_std, X_test_std = standard_scaler(X_train, X_test, numerical_cols=num_cols)\n",
        "    \n",
        "    # Instantiate model\n",
        "    clf_lr = LogisticRegression(random_state=42)\n",
        "    \n",
        "    # Fit the model\n",
        "    clf_lr.fit(X_train_std, y_train)\n",
        "\n",
        "    # Since this is imbalanced data, accuracy will not be right metric, hence roc_auc score used for performance.\n",
        "    scores = cross_val_score(clf_lr, X_train_std, y_train, scoring=\"roc_auc\", cv=5)\n",
        "    roc_auc_lr = np.mean(scores)\n",
        "    \n",
        "    if imbalance:\n",
        "        return \"Logistic Regression\", \"With SMOTE\", roc_auc_lr\n",
        "    else:\n",
        "        return \"Logistic Regression\", \"Without SMOTE\", roc_auc_lr"
      ]
    },
    {
      "cell_type": "code",
      "execution_count": 11,
      "metadata": {
        "colab": {
          "base_uri": "https://localhost:8080/",
          "height": 112
        },
        "id": "jK9nfRTGdcFR",
        "outputId": "9fe7f8bc-2a85-41e1-fbcf-bc35d2700b20"
      },
      "outputs": [
        {
          "data": {
            "text/html": [
              "<div>\n",
              "<style scoped>\n",
              "    .dataframe tbody tr th:only-of-type {\n",
              "        vertical-align: middle;\n",
              "    }\n",
              "\n",
              "    .dataframe tbody tr th {\n",
              "        vertical-align: top;\n",
              "    }\n",
              "\n",
              "    .dataframe thead th {\n",
              "        text-align: right;\n",
              "    }\n",
              "</style>\n",
              "<table border=\"1\" class=\"dataframe\">\n",
              "  <thead>\n",
              "    <tr style=\"text-align: right;\">\n",
              "      <th></th>\n",
              "      <th>Model</th>\n",
              "      <th>SMOTE</th>\n",
              "      <th>ROC_AUC Score</th>\n",
              "    </tr>\n",
              "  </thead>\n",
              "  <tbody>\n",
              "    <tr>\n",
              "      <th>0</th>\n",
              "      <td>Logistic Regression</td>\n",
              "      <td>Without SMOTE</td>\n",
              "      <td>0.905991</td>\n",
              "    </tr>\n",
              "    <tr>\n",
              "      <th>1</th>\n",
              "      <td>Logistic Regression</td>\n",
              "      <td>With SMOTE</td>\n",
              "      <td>0.975182</td>\n",
              "    </tr>\n",
              "  </tbody>\n",
              "</table>\n",
              "</div>"
            ],
            "text/plain": [
              "                 Model          SMOTE  ROC_AUC Score\n",
              "0  Logistic Regression  Without SMOTE       0.905991\n",
              "1  Logistic Regression     With SMOTE       0.975182"
            ]
          },
          "execution_count": 11,
          "metadata": {},
          "output_type": "execute_result"
        }
      ],
      "source": [
        "model_results = []\n",
        "model_results.append(logistic_regression())\n",
        "model_results.append(logistic_regression(imbalance=True))\n",
        "\n",
        "pd.DataFrame(model_results, columns=[\"Model\",\"SMOTE\",\"ROC_AUC Score\"])"
      ]
    },
    {
      "cell_type": "markdown",
      "metadata": {
        "id": "2CKx_1UVeBEv"
      },
      "source": [
        "### Hyperparameter Tuning"
      ]
    },
    {
      "cell_type": "code",
      "execution_count": 12,
      "metadata": {
        "colab": {
          "base_uri": "https://localhost:8080/"
        },
        "id": "_owGZZ51d1DF",
        "outputId": "dff71253-2414-449d-f4fa-bb2b00f541cd"
      },
      "outputs": [
        {
          "name": "stdout",
          "output_type": "stream",
          "text": [
            "{'penalty': 'l2'}\n"
          ]
        }
      ],
      "source": [
        "# Split data with SMOTE \n",
        "X_train, X_test, y_train, y_test = data_split(X, y, imbalance=True) \n",
        "\n",
        "# Rescale data\n",
        "X_train_std, X_test_std = standard_scaler(X_train, X_test, numerical_cols=num_cols)\n",
        "\n",
        "logistic = LogisticRegression(random_state=42)\n",
        "distributions = dict(penalty=['l1','l2'])\n",
        "clf = GridSearchCV(logistic, distributions)\n",
        "\n",
        "lr_best= clf.fit(X_train_std, y_train)   \n",
        "\n",
        "print(lr_best.best_params_)"
      ]
    },
    {
      "cell_type": "code",
      "execution_count": 13,
      "metadata": {
        "colab": {
          "base_uri": "https://localhost:8080/"
        },
        "id": "KADe6L_FeKJw",
        "outputId": "39d0f07d-c0f0-483c-c74b-6c84f85bdabb"
      },
      "outputs": [
        {
          "name": "stdout",
          "output_type": "stream",
          "text": [
            "ROC_AUC score after tuning parameters:0.975\n"
          ]
        }
      ],
      "source": [
        "# Finding ROC_AUC score of tuned model on training data\n",
        "scores_tuned = cross_val_score(lr_best, X_train_std, y_train, scoring=\"roc_auc\", cv=5)\n",
        "roc_auc_lr_best = np.mean(scores_tuned)\n",
        "\n",
        "print(f'ROC_AUC score after tuning parameters:{roc_auc_lr_best:.3f}')"
      ]
    },
    {
      "cell_type": "code",
      "execution_count": 14,
      "metadata": {},
      "outputs": [
        {
          "data": {
            "text/plain": [
              "0.8976431617857773"
            ]
          },
          "execution_count": 14,
          "metadata": {},
          "output_type": "execute_result"
        }
      ],
      "source": [
        "# scores_tuned = cross_val_score(lr_best, X_test_std, y_train, scoring=\"roc_auc\", cv=5)\n",
        "# roc_auc_lr_best = np.mean(scores_tuned)\n",
        "\n",
        "# print(f'ROC_AUC score after tuning parameters:{roc_auc_lr_best:.3f}')\n",
        "roc_auc_score(y_test.values, lr_best.predict_proba(X_test_std)[:,1])"
      ]
    },
    {
      "cell_type": "markdown",
      "metadata": {
        "id": "avS2kG_lemZa"
      },
      "source": [
        "### Model Evaluation"
      ]
    },
    {
      "cell_type": "code",
      "execution_count": 15,
      "metadata": {
        "id": "co2loAVmeaPo"
      },
      "outputs": [],
      "source": [
        "# UDF to compute Precision, Recall and F1 score\n",
        "def pre_rec_f1(model, X_test, y_test):\n",
        "    y_pred = model.predict(X_test)\n",
        "    tn, fp, fn, tp = confusion_matrix(y_test, y_pred).ravel()\n",
        "    \n",
        "    precision = tp / (tp + fp)\n",
        "    recall = tp / (tp + fn)\n",
        "    F1 = 2 * (precision * recall) / (precision + recall)\n",
        "    \n",
        "    print(f'Precision:{precision:.3f}\\nRecall:{recall:.3f}\\nF1 score:{F1:.3f}')"
      ]
    },
    {
      "cell_type": "code",
      "execution_count": 16,
      "metadata": {
        "colab": {
          "base_uri": "https://localhost:8080/"
        },
        "id": "RI5ATUbKew71",
        "outputId": "35e776d3-23f7-457d-f884-34ad3d2a9a61"
      },
      "outputs": [
        {
          "name": "stdout",
          "output_type": "stream",
          "text": [
            "Precision:0.626\n",
            "Recall:0.396\n",
            "F1 score:0.485\n"
          ]
        }
      ],
      "source": [
        "pre_rec_f1(lr_best, X_test_std, y_test)"
      ]
    },
    {
      "cell_type": "markdown",
      "metadata": {
        "id": "3G7FWJsFe--s"
      },
      "source": [
        "# 2. Random Forest"
      ]
    },
    {
      "cell_type": "code",
      "execution_count": 17,
      "metadata": {
        "id": "2tXRpXYxe1Y1"
      },
      "outputs": [],
      "source": [
        "def random_forest(imbalance=False):\n",
        "    # Split data  \n",
        "    X_train, X_test, y_train, y_test = data_split(X, y, imbalance=imbalance)\n",
        "    \n",
        "    # Instantiate model\n",
        "    clf_rf = RandomForestClassifier()\n",
        "   \n",
        "    # Fit the model\n",
        "    clf_rf.fit(X_train, y_train)\n",
        "\n",
        "    # Use model's default parameters to get cross validation score\n",
        "    scores = cross_val_score(clf_rf, X_train, y_train, scoring=\"roc_auc\", cv=5)\n",
        "    roc_auc_rf = np.mean(scores)\n",
        "    \n",
        "    if imbalance:\n",
        "        return \"Random Forest\", \"With SMOTE\", roc_auc_rf\n",
        "    else:\n",
        "        return \"Random Forest\", \"Without SMOTE\", roc_auc_rf"
      ]
    },
    {
      "cell_type": "code",
      "execution_count": 18,
      "metadata": {
        "colab": {
          "base_uri": "https://localhost:8080/",
          "height": 112
        },
        "id": "4pJgCWCCfJLS",
        "outputId": "f239f3c2-301f-437d-fd88-86e7919f9b14"
      },
      "outputs": [
        {
          "data": {
            "text/html": [
              "<div>\n",
              "<style scoped>\n",
              "    .dataframe tbody tr th:only-of-type {\n",
              "        vertical-align: middle;\n",
              "    }\n",
              "\n",
              "    .dataframe tbody tr th {\n",
              "        vertical-align: top;\n",
              "    }\n",
              "\n",
              "    .dataframe thead th {\n",
              "        text-align: right;\n",
              "    }\n",
              "</style>\n",
              "<table border=\"1\" class=\"dataframe\">\n",
              "  <thead>\n",
              "    <tr style=\"text-align: right;\">\n",
              "      <th></th>\n",
              "      <th>Model</th>\n",
              "      <th>SMOTE</th>\n",
              "      <th>ROC_AUC Score</th>\n",
              "    </tr>\n",
              "  </thead>\n",
              "  <tbody>\n",
              "    <tr>\n",
              "      <th>0</th>\n",
              "      <td>Random Forest</td>\n",
              "      <td>Without SMOTE</td>\n",
              "      <td>0.915790</td>\n",
              "    </tr>\n",
              "    <tr>\n",
              "      <th>1</th>\n",
              "      <td>Random Forest</td>\n",
              "      <td>With SMOTE</td>\n",
              "      <td>0.991682</td>\n",
              "    </tr>\n",
              "  </tbody>\n",
              "</table>\n",
              "</div>"
            ],
            "text/plain": [
              "           Model          SMOTE  ROC_AUC Score\n",
              "0  Random Forest  Without SMOTE       0.915790\n",
              "1  Random Forest     With SMOTE       0.991682"
            ]
          },
          "execution_count": 18,
          "metadata": {},
          "output_type": "execute_result"
        }
      ],
      "source": [
        "model_results = []\n",
        "model_results.append(random_forest())\n",
        "model_results.append(random_forest(imbalance=True))\n",
        "\n",
        "pd.DataFrame(model_results, columns=[\"Model\",\"SMOTE\",\"ROC_AUC Score\"])"
      ]
    },
    {
      "cell_type": "markdown",
      "metadata": {
        "id": "ogUxw1ppfkKG"
      },
      "source": [
        "### Hyperparameter Tuning"
      ]
    },
    {
      "cell_type": "code",
      "execution_count": 19,
      "metadata": {
        "colab": {
          "base_uri": "https://localhost:8080/"
        },
        "id": "H5pJGh_wfM5Z",
        "outputId": "0ec67325-03dd-49f6-f5bc-289efff01654"
      },
      "outputs": [
        {
          "name": "stdout",
          "output_type": "stream",
          "text": [
            "Fitting 3 folds for each of 81 candidates, totalling 243 fits\n"
          ]
        },
        {
          "data": {
            "text/plain": [
              "{'max_depth': 110,\n",
              " 'min_samples_leaf': 3,\n",
              " 'min_samples_split': 8,\n",
              " 'n_estimators': 300}"
            ]
          },
          "execution_count": 19,
          "metadata": {},
          "output_type": "execute_result"
        }
      ],
      "source": [
        "# Split data with SMOTE\n",
        "X_train_sm, X_test, y_train_sm, y_test = data_split(X, y, imbalance=True)\n",
        "\n",
        "# Create parameter grid  \n",
        "param_grid = {\n",
        "    'max_depth':[60,90,110],\n",
        "    'min_samples_leaf':[3,4,5],\n",
        "    'min_samples_split':[8,10,12],\n",
        "    'n_estimators':[100,200,300]\n",
        "}\n",
        "\n",
        "# Instantiate the model\n",
        "clf_rf = RandomForestClassifier()\n",
        "\n",
        "# Instantiate grid search model\n",
        "grid_search = GridSearchCV(estimator=clf_rf, param_grid=param_grid,    \n",
        "                           cv=3, n_jobs=-1, verbose=1)\n",
        "\n",
        "# Fit grid search to the data\n",
        "grid_search.fit(X_train_sm, y_train_sm)\n",
        "grid_search.best_params_"
      ]
    },
    {
      "cell_type": "code",
      "execution_count": 20,
      "metadata": {
        "colab": {
          "base_uri": "https://localhost:8080/"
        },
        "id": "N2FP1YiCfsAl",
        "outputId": "ecfcbeb9-c6ef-4bdb-a47e-1bd5c459aa9a"
      },
      "outputs": [
        {
          "name": "stdout",
          "output_type": "stream",
          "text": [
            "ROC_AUC training score after tuning for Random Forest:0.988\n"
          ]
        }
      ],
      "source": [
        "# Use the best parameters to fit the model\n",
        "rf_best = RandomForestClassifier(**grid_search.best_params_)   \n",
        "rf_best.fit(X_train_sm, y_train_sm)\n",
        "\n",
        "scores_best = cross_val_score(rf_best, X_train_sm, y_train_sm, scoring=\"roc_auc\", cv=5)\n",
        "roc_auc_best = np.mean(scores_best)\n",
        "\n",
        "print(f'ROC_AUC training score after tuning for Random Forest:{roc_auc_best:.3f}')"
      ]
    },
    {
      "cell_type": "code",
      "execution_count": 21,
      "metadata": {},
      "outputs": [
        {
          "data": {
            "text/plain": [
              "0.7530676971231197"
            ]
          },
          "execution_count": 21,
          "metadata": {},
          "output_type": "execute_result"
        }
      ],
      "source": [
        "roc_auc_score(y_test.values, rf_best.predict_proba(X_test_std)[:,1])"
      ]
    },
    {
      "cell_type": "code",
      "execution_count": null,
      "metadata": {},
      "outputs": [],
      "source": []
    },
    {
      "cell_type": "markdown",
      "metadata": {
        "id": "F0MhRnPKhgu4"
      },
      "source": [
        "### Model Evaluation"
      ]
    },
    {
      "cell_type": "code",
      "execution_count": null,
      "metadata": {
        "colab": {
          "base_uri": "https://localhost:8080/"
        },
        "id": "nZdC6eWwhkK2",
        "outputId": "c21d9678-e444-4f87-b49a-4bfd63bfb110"
      },
      "outputs": [
        {
          "name": "stdout",
          "output_type": "stream",
          "text": [
            "Precision:0.536\n",
            "Recall:0.617\n",
            "F1 score:0.574\n"
          ]
        }
      ],
      "source": [
        "pre_rec_f1(rf_best, X_test, y_test)"
      ]
    },
    {
      "cell_type": "markdown",
      "metadata": {
        "id": "b56AU_ZLuQvY"
      },
      "source": [
        "# 3. XGBoost"
      ]
    },
    {
      "cell_type": "code",
      "execution_count": null,
      "metadata": {
        "id": "bd76Fi6Zt9F3"
      },
      "outputs": [],
      "source": [
        "def xgboost(imbalance=False):\n",
        "    # Split data  \n",
        "    X_train, X_test, y_train, y_test = data_split(X, y, imbalance=imbalance)\n",
        "    \n",
        "    # Instantiate model with default parameters\n",
        "    clf_xgb = XGBClassifier()\n",
        "    \n",
        "    # Fit the model\n",
        "    clf_xgb.fit(X_train, y_train)\n",
        "\n",
        "    # Use model's default parameters to get cross validation score\n",
        "    scores = cross_val_score(clf_xgb, X_train, y_train, scoring=\"roc_auc\", cv=5)\n",
        "    roc_auc_xgb = np.mean(scores)\n",
        "    \n",
        "    if imbalance:\n",
        "        return \"XGBoost\", \"With SMOTE\", roc_auc_xgb\n",
        "    else:\n",
        "        return \"XGBoost\", \"Without SMOTE\", roc_auc_xgb"
      ]
    },
    {
      "cell_type": "code",
      "execution_count": null,
      "metadata": {
        "colab": {
          "base_uri": "https://localhost:8080/",
          "height": 112
        },
        "id": "w9A2nbYIubki",
        "outputId": "a23c61f3-d1b9-4116-fd19-7b5b1885b069"
      },
      "outputs": [
        {
          "data": {
            "text/html": [
              "<div>\n",
              "<style scoped>\n",
              "    .dataframe tbody tr th:only-of-type {\n",
              "        vertical-align: middle;\n",
              "    }\n",
              "\n",
              "    .dataframe tbody tr th {\n",
              "        vertical-align: top;\n",
              "    }\n",
              "\n",
              "    .dataframe thead th {\n",
              "        text-align: right;\n",
              "    }\n",
              "</style>\n",
              "<table border=\"1\" class=\"dataframe\">\n",
              "  <thead>\n",
              "    <tr style=\"text-align: right;\">\n",
              "      <th></th>\n",
              "      <th>Model</th>\n",
              "      <th>SMOTE</th>\n",
              "      <th>ROC_AUC Score</th>\n",
              "    </tr>\n",
              "  </thead>\n",
              "  <tbody>\n",
              "    <tr>\n",
              "      <th>0</th>\n",
              "      <td>XGBoost</td>\n",
              "      <td>Without SMOTE</td>\n",
              "      <td>0.930480</td>\n",
              "    </tr>\n",
              "    <tr>\n",
              "      <th>1</th>\n",
              "      <td>XGBoost</td>\n",
              "      <td>With SMOTE</td>\n",
              "      <td>0.987162</td>\n",
              "    </tr>\n",
              "  </tbody>\n",
              "</table>\n",
              "</div>"
            ],
            "text/plain": [
              "     Model          SMOTE  ROC_AUC Score\n",
              "0  XGBoost  Without SMOTE       0.930480\n",
              "1  XGBoost     With SMOTE       0.987162"
            ]
          },
          "execution_count": 24,
          "metadata": {},
          "output_type": "execute_result"
        }
      ],
      "source": [
        "model_results = []\n",
        "model_results.append(xgboost())                  \n",
        "model_results.append(xgboost(imbalance=True))    \n",
        "\n",
        "pd.DataFrame(model_results, columns=[\"Model\",\"SMOTE\",\"ROC_AUC Score\"])"
      ]
    },
    {
      "cell_type": "markdown",
      "metadata": {
        "id": "iiR6-B5MvFwL"
      },
      "source": [
        "### Hyperparameter Tuning"
      ]
    },
    {
      "cell_type": "code",
      "execution_count": null,
      "metadata": {
        "colab": {
          "base_uri": "https://localhost:8080/"
        },
        "id": "FB-7b_12uox4",
        "outputId": "f1265e71-bb4d-4f2a-bb04-d5d96198f6fe"
      },
      "outputs": [
        {
          "name": "stdout",
          "output_type": "stream",
          "text": [
            "{'n_estimators': array([200, 400, 600, 800]), 'gamma': array([0.1, 0.2, 0.3, 0.4, 0.5]), 'learning_rate': array([0.1, 0.2, 0.3, 0.4, 0.5]), 'max_depth': [3, 4, 5, 6, 7], 'subsample': array([0.5, 0.6, 0.7, 0.8]), 'colsample_bytree': array([0.5, 0.6, 0.7, 0.8]), 'scale_pos_weight': [1, 3.5]}\n"
          ]
        }
      ],
      "source": [
        "# Sampling and split data with SMOTE\n",
        "X_train_sm, X_test, y_train_sm, y_test = data_split(X, y, imbalance=True)\n",
        "\n",
        "# Number of trees\n",
        "n_estimators = np.arange(200,1000,200)\n",
        "\n",
        "# Minimum loss reduction required to make a further partition on a leaf node of the tree\n",
        "# The larger gamma is, the more conservative the algorithm will be\n",
        "gamma = np.arange(0.1,0.6,0.1)\n",
        "\n",
        "# Default 0.3, range(0,1)\n",
        "learning_rate = np.arange(0.1,0.6,0.1)\n",
        "\n",
        "# Maximum number of levels in tree\n",
        "max_depth = list(range(3,8,1))\n",
        "\n",
        "# Subsample ratio of the training instances.Range(0,1)\n",
        "subsample = np.arange(0.5,0.9,0.1)\n",
        "\n",
        "# Subsample ratio of columns when constructing each tree. Range(0,1)\n",
        "colsample_bytree = np.arange(0.5,0.9,0.1)\n",
        "\n",
        "# Control the balance of positive and negative weights\n",
        "# Sum(negative instances) / sum(positive instances)\n",
        "scale_pos_weight = [1,3.5]\n",
        "\n",
        "\n",
        "# Create the random grid\n",
        "random_grid_xgb = {'n_estimators':n_estimators,\n",
        "                   'gamma':gamma,\n",
        "                   'learning_rate':learning_rate,\n",
        "                   'max_depth':max_depth,\n",
        "                   'subsample':subsample,\n",
        "                   'colsample_bytree':colsample_bytree,\n",
        "                   'scale_pos_weight':scale_pos_weight\n",
        "                   }\n",
        "print(random_grid_xgb )"
      ]
    },
    {
      "cell_type": "code",
      "execution_count": null,
      "metadata": {
        "colab": {
          "base_uri": "https://localhost:8080/"
        },
        "id": "zZLX9Ky8vPWO",
        "outputId": "a81c1f7f-e32c-48ba-df95-229b9684c3e5"
      },
      "outputs": [
        {
          "name": "stdout",
          "output_type": "stream",
          "text": [
            "Fitting 3 folds for each of 100 candidates, totalling 300 fits\n",
            "{'subsample': 0.7, 'scale_pos_weight': 3.5, 'n_estimators': 200, 'max_depth': 7, 'learning_rate': 0.1, 'gamma': 0.30000000000000004, 'colsample_bytree': 0.6} 0.9884800669054418\n"
          ]
        }
      ],
      "source": [
        "xgboost = XGBClassifier()\n",
        "xgb_random = RandomizedSearchCV(estimator=xgboost, \n",
        "                                param_distributions=random_grid_xgb, \n",
        "                                n_iter=100, \n",
        "                                cv=3, \n",
        "                                verbose=1, \n",
        "                                random_state=42, \n",
        "                                n_jobs=-1,\n",
        "                                scoring='roc_auc')\n",
        "\n",
        "\n",
        "xgb_random.fit(X_train_sm, y_train_sm)   \n",
        "\n",
        "print(xgb_random.best_params_, xgb_random.best_score_)"
      ]
    },
    {
      "cell_type": "code",
      "execution_count": null,
      "metadata": {
        "id": "bQYunYlFvVBO"
      },
      "outputs": [
        {
          "name": "stdout",
          "output_type": "stream",
          "text": [
            "Precision:0.476\n",
            "Recall:0.778\n",
            "F1 score:0.591\n"
          ]
        }
      ],
      "source": [
        "pre_rec_f1(xgb_random, X_test, y_test)"
      ]
    },
    {
      "cell_type": "code",
      "execution_count": null,
      "metadata": {},
      "outputs": [
        {
          "data": {
            "text/plain": [
              "0.7788682771994357"
            ]
          },
          "execution_count": 28,
          "metadata": {},
          "output_type": "execute_result"
        }
      ],
      "source": [
        "roc_auc_score(y_test.values, xgb_random.predict_proba(X_test_std)[:,1])"
      ]
    },
    {
      "cell_type": "markdown",
      "metadata": {
        "id": "F2KfeBwB3-Pc"
      },
      "source": [
        "# Models Comparison"
      ]
    },
    {
      "cell_type": "markdown",
      "metadata": {
        "id": "GOIfa81N4FK8"
      },
      "source": [
        "### Confusion Matrix"
      ]
    },
    {
      "cell_type": "code",
      "execution_count": null,
      "metadata": {
        "id": "oH84Puha4BUb"
      },
      "outputs": [
        {
          "data": {
            "image/png": "[encoded data removed]",
            "text/plain": [
              "<Figure size 720x1080 with 6 Axes>"
            ]
          },
          "metadata": {
            "needs_background": "light"
          },
          "output_type": "display_data"
        }
      ],
      "source": [
        "# Plot confusion matrix of 3 models\n",
        "fig, ax = plt.subplots(3, 1, figsize=(10,15))\n",
        "\n",
        "plot_confusion_matrix(lr_best, X_test_std, y_test, ax=ax[0], values_format=\"d\")\n",
        "ax[0].set_title(\"Logistic Regression CM\");\n",
        "\n",
        "plot_confusion_matrix(rf_best, X_test, y_test, ax=ax[1], values_format=\"d\")\n",
        "ax[1].set_title(\"Random Forest CM\");\n",
        "\n",
        "plot_confusion_matrix(xgb_random, X_test, y_test, ax=ax[2], values_format=\"d\")\n",
        "ax[2].set_title(\"XGBoost CM\");"
      ]
    },
    {
      "cell_type": "markdown",
      "metadata": {
        "id": "ukbMe_5K4-1d"
      },
      "source": [
        "### ROC_AUC Curve"
      ]
    },
    {
      "cell_type": "code",
      "execution_count": null,
      "metadata": {
        "id": "aqNN-nuW5E_r"
      },
      "outputs": [
        {
          "data": {
            "image/png": "[encoded data removed]",
            "text/plain": [
              "<Figure size 720x360 with 1 Axes>"
            ]
          },
          "metadata": {
            "needs_background": "light"
          },
          "output_type": "display_data"
        }
      ],
      "source": [
        "# Plot ROC_AUC curve of 3 models\n",
        "fig, ax = plt.subplots(figsize=(10,5))\n",
        "\n",
        "plot_roc_curve(lr_best, X_test_std, y_test, ax=ax, color=\"blue\", label='Logistic Regression')\n",
        "plot_roc_curve(rf_best, X_test, y_test, ax=ax, color=\"black\", label='Random Forest')\n",
        "plot_roc_curve(xgb_random, X_test, y_test, ax=ax, color=\"red\", label='XGBoost')\n",
        "\n",
        "plt.title('ROC/AUC of 3 models')\n",
        "plt.grid()"
      ]
    },
    {
      "cell_type": "markdown",
      "metadata": {
        "id": "Dw5nm9LD5OUM"
      },
      "source": [
        "### Precision_Recall Curve"
      ]
    },
    {
      "cell_type": "code",
      "execution_count": null,
      "metadata": {
        "id": "E5P6nNz-5JMs"
      },
      "outputs": [
        {
          "data": {
            "image/png": "[encoded data removed]",
            "text/plain": [
              "<Figure size 720x360 with 1 Axes>"
            ]
          },
          "metadata": {
            "needs_background": "light"
          },
          "output_type": "display_data"
        }
      ],
      "source": [
        "# Compare 3 models' Precision_recall curves\n",
        "fig, ax = plt.subplots(figsize=(10,5))\n",
        "\n",
        "plot_precision_recall_curve(lr_best, X_test_std, y_test, ax=ax, color=\"blue\", label='Logistic Regression')\n",
        "plot_precision_recall_curve(rf_best, X_test, y_test, ax=ax, color=\"black\", label='Random Forest')\n",
        "plot_precision_recall_curve(xgb_random, X_test, y_test, ax=ax, color=\"red\", label='XGBoost')\n",
        "\n",
        "plt.title('Precision_Recall of 3 models')\n",
        "plt.grid()"
      ]
    },
    {
      "cell_type": "markdown",
      "metadata": {
        "id": "Q5j6huXa5hdX"
      },
      "source": [
        "### Comparing models with Dummy Classifier"
      ]
    },
    {
      "cell_type": "code",
      "execution_count": null,
      "metadata": {
        "id": "gDuMrz7r5pwe"
      },
      "outputs": [
        {
          "name": "stdout",
          "output_type": "stream",
          "text": [
            "Dummy model metrics:\n",
            "Precision:0.113\n",
            "Recall:0.490\n",
            "F1 score:0.184\n"
          ]
        }
      ],
      "source": [
        "dummy_clf = DummyClassifier(strategy=\"stratified\")\n",
        "dummy_clf.fit(X_train, y_train)\n",
        "DummyClassifier(strategy='stratified')\n",
        "y_pred_dummy = dummy_clf.predict(X_test)\n",
        "\n",
        "print('Dummy model metrics:')\n",
        "pre_rec_f1(dummy_clf, X_test, y_test)"
      ]
    },
    {
      "cell_type": "markdown",
      "metadata": {},
      "source": [
        "### Feature Importance using random forest"
      ]
    },
    {
      "cell_type": "code",
      "execution_count": null,
      "metadata": {},
      "outputs": [
        {
          "data": {
            "image/png": "[encoded data removed]",
            "text/plain": [
              "<Figure size 720x576 with 1 Axes>"
            ]
          },
          "metadata": {
            "needs_background": "light"
          },
          "output_type": "display_data"
        }
      ],
      "source": [
        "# Plot feature importance of selected model - Random Forest\n",
        "fea_df = pd.DataFrame({'Feature':feature_cols, 'Feature importance':rf_best.feature_importances_})\n",
        "fea_df = fea_df.sort_values(by='Feature importance')\n",
        "\n",
        "fig, ax = plt.subplots(figsize=(10,8))\n",
        "fea_df.plot.barh(x='Feature', y='Feature importance', ax=ax)\n",
        "plt.title('Feature Importances', fontsize=14);"
      ]
    },
    {
      "cell_type": "code",
      "execution_count": 22,
      "metadata": {},
      "outputs": [],
      "source": [
        "import pickle \n",
        "pickle_out = open('rf_cls.pkl','wb')\n",
        "pickle.dump(rf_best,pickle_out)\n",
        "pickle_out.close()"
      ]
    }
  ],
  "metadata": {
    "accelerator": "GPU",
    "colab": {
      "collapsed_sections": [],
      "name": "Customer_Convertion_model.ipynb",
      "provenance": []
    },
    "gpuClass": "standard",
    "kernelspec": {
      "display_name": "Python 3.10.4 64-bit",
      "language": "python",
      "name": "python3"
    },
    "language_info": {
      "codemirror_mode": {
        "name": "ipython",
        "version": 3
      },
      "file_extension": ".py",
      "mimetype": "text/x-python",
      "name": "python",
      "nbconvert_exporter": "python",
      "pygments_lexer": "ipython3",
      "version": "3.10.4"
    },
    "vscode": {
      "interpreter": {
        "hash": "e276a94ab97a9efae7bdcfa9e1dc61b2f6097e65aabcec1a6ce84efca64eb96b"
      }
    }
  },
  "nbformat": 4,
  "nbformat_minor": 0
}
